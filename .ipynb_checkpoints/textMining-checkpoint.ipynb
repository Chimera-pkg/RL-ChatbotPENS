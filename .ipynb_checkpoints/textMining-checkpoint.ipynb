{
 "cells": [
  {
   "cell_type": "markdown",
   "id": "3ce2f5c2",
   "metadata": {
    "colab_type": "text",
    "id": "view-in-github"
   },
   "source": [
    "<a href=\"https://colab.research.google.com/github/fendy07/chatbot-AI/blob/master/DL_Chatbot.ipynb\" target=\"_parent\"><img src=\"https://colab.research.google.com/assets/colab-badge.svg\" alt=\"Open In Colab\"/></a>"
   ]
  },
  {
   "cell_type": "markdown",
   "id": "d18e160a",
   "metadata": {
    "id": "d18e160a"
   },
   "source": [
    "# **Preprocessing Chatbot**\n",
    "\n",
    "<b>Chatbot</b> merupakan bagian dari Natural Language Processing yang digunakan untuk percakapan dengan pengguna melalui teks dan ucapan. Pada praktik hari ini kita akan membuat sebuah chat otomatis atau chatbot tentang program Kampus Merdeka dari Kementerian Pendidikan Kebudayaan Riset dan Teknologi (KEMENDIKBUDRISTEK).\n",
    "\n",
    "Dalam tahapan Chatbot ini ada tahapan yang harus kita perhatikan yaitu,\n",
    "\n",
    "1. Import Library\n",
    "2. Load Dataset\n",
    "3. Preprocessing Data\n",
    "4. Input Length, Output Length and Vocabulary\n",
    "5. Long Short Term Memory Model\n",
    "6. Evaluation Model Analysis\n",
    "7. Testing Chatbot\n",
    "8. Save The Model\n",
    "\n",
    "Dalam proyek ini, kita akan membuat chatbot tentang program Kampus Merdeka!\n",
    "\n",
    "Sumber code: [Medium - Going Merry With Tensorflow 2.0](https://medium.com/analytics-vidhya/chatbot-with-tensorflow-2-0-going-merry-2f79284a6104)"
   ]
  },
  {
   "cell_type": "markdown",
   "id": "xaowz3BO9B8l",
   "metadata": {
    "id": "xaowz3BO9B8l"
   },
   "source": [
    "## **Download Dataset From GitHub**\n",
    "\n",
    "Setelah kita mengetahui apa saja alur yang digunakan untuk membuat proyek AI Chatbot maka tahapan selanjutnya adalah mengunduh atau download dataset dari GitHub milik Fendy Hendriyanto pada bagian repository AI Chatbot. Link: [Chatbot-AI](https://github.com/fendy07/chatbot-AI)"
   ]
  },
  {
   "cell_type": "code",
   "execution_count": 1,
   "id": "d6cd8b1e",
   "metadata": {},
   "outputs": [],
   "source": [
    "import pandas as pd\n",
    "import numpy as np"
   ]
  },
  {
   "cell_type": "code",
   "execution_count": 2,
   "id": "QEn68nGv9k5e",
   "metadata": {
    "colab": {
     "base_uri": "https://localhost:8080/"
    },
    "id": "QEn68nGv9k5e",
    "outputId": "e23bda52-a2d6-4216-867e-06d05424e3a0"
   },
   "outputs": [
    {
     "data": {
      "text/html": [
       "<div>\n",
       "<style scoped>\n",
       "    .dataframe tbody tr th:only-of-type {\n",
       "        vertical-align: middle;\n",
       "    }\n",
       "\n",
       "    .dataframe tbody tr th {\n",
       "        vertical-align: top;\n",
       "    }\n",
       "\n",
       "    .dataframe thead th {\n",
       "        text-align: right;\n",
       "    }\n",
       "</style>\n",
       "<table border=\"1\" class=\"dataframe\">\n",
       "  <thead>\n",
       "    <tr style=\"text-align: right;\">\n",
       "      <th></th>\n",
       "      <th>question</th>\n",
       "      <th>answer</th>\n",
       "    </tr>\n",
       "  </thead>\n",
       "  <tbody>\n",
       "    <tr>\n",
       "      <th>0</th>\n",
       "      <td>Apa itu Bidikmisi?</td>\n",
       "      <td>Bidikmisi adalah bantuan biaya pendidikan yang...</td>\n",
       "    </tr>\n",
       "    <tr>\n",
       "      <th>1</th>\n",
       "      <td>Apa tujuan Bidikmisi?</td>\n",
       "      <td>meningkatkan akses dan kesempatan belajar di p...</td>\n",
       "    </tr>\n",
       "    <tr>\n",
       "      <th>2</th>\n",
       "      <td>Bagaimana pembayaran untuk mahasiswa yang berb...</td>\n",
       "      <td>Mahasiswa berbeasiswa Bidik Misi dibebaskan me...</td>\n",
       "    </tr>\n",
       "    <tr>\n",
       "      <th>3</th>\n",
       "      <td>Saya sudah melakukan pembayaran SPP/UKT, Ikoma...</td>\n",
       "      <td>Tidak, Anda harus login ke laman http://online...</td>\n",
       "    </tr>\n",
       "    <tr>\n",
       "      <th>4</th>\n",
       "      <td>Kenapa ketika mencoba membayar ONLINE melalui ...</td>\n",
       "      <td>Perhatikan jadwal pembayaran karena pembayaran...</td>\n",
       "    </tr>\n",
       "    <tr>\n",
       "      <th>5</th>\n",
       "      <td>Berapakah jumlah harus dibayarkan untuk UKT/SP...</td>\n",
       "      <td>Karena jumlah yang dibayarkan tiap mahasiswa d...</td>\n",
       "    </tr>\n",
       "    <tr>\n",
       "      <th>6</th>\n",
       "      <td>Pembayaran melalui ATM bersama apakah bisa?</td>\n",
       "      <td>Tidak Bisa</td>\n",
       "    </tr>\n",
       "    <tr>\n",
       "      <th>7</th>\n",
       "      <td>Bagaimana cara untuk mendaftar beasiswa Adaro ?</td>\n",
       "      <td>Untuk mendaftar beasiswa adaro dari PENS dapat...</td>\n",
       "    </tr>\n",
       "    <tr>\n",
       "      <th>8</th>\n",
       "      <td>Bagaimana cara mendaftar beasiwa Djarum Plus?</td>\n",
       "      <td>Untuk mendaftar beasiswa djarum plus dapat mel...</td>\n",
       "    </tr>\n",
       "    <tr>\n",
       "      <th>9</th>\n",
       "      <td>Beasiswa apa saja yang bekerja sama dengan PENS?</td>\n",
       "      <td>beasiswa yang terdaftar adalah astra, PPA, pem...</td>\n",
       "    </tr>\n",
       "    <tr>\n",
       "      <th>10</th>\n",
       "      <td>Apa itu beasiswa Djarum Plus?</td>\n",
       "      <td>Program Djarum Beasiswa Plus merupakan beasisw...</td>\n",
       "    </tr>\n",
       "    <tr>\n",
       "      <th>11</th>\n",
       "      <td>Apa itu kemahasiswaan PENS?</td>\n",
       "      <td>Kemahasiswaan PENS adalah unit departemen yang...</td>\n",
       "    </tr>\n",
       "    <tr>\n",
       "      <th>12</th>\n",
       "      <td>Dimana saya bisa menemukan Kemahasiswaan PENS ?</td>\n",
       "      <td>Gedung Kemahasiswaan PENS berlokasi di D4 Lant...</td>\n",
       "    </tr>\n",
       "    <tr>\n",
       "      <th>13</th>\n",
       "      <td>PENS berlokasi dimana?</td>\n",
       "      <td>Jalan Raya ITS - Kampus PENS Sukolilo Surabaya...</td>\n",
       "    </tr>\n",
       "    <tr>\n",
       "      <th>14</th>\n",
       "      <td>Apa Persyaratan pendaftaran beasiswa Djarum be...</td>\n",
       "      <td>Persyaratan pendaftaran adalah:\\r\\nSedang mene...</td>\n",
       "    </tr>\n",
       "    <tr>\n",
       "      <th>15</th>\n",
       "      <td>Bagaimana Alur pendaftaran Djarum Beasiswa Plus</td>\n",
       "      <td>Pendaftar melakukan pendaftaran online dan men...</td>\n",
       "    </tr>\n",
       "    <tr>\n",
       "      <th>16</th>\n",
       "      <td>Kapan Pendaftaran Beasiswa Djarum beasiswa Plu...</td>\n",
       "      <td>Program Djarum Beasiswa Plus dibuka 1 kali dal...</td>\n",
       "    </tr>\n",
       "    <tr>\n",
       "      <th>17</th>\n",
       "      <td>Kegiatan penalaran apa saja yang ada di PENS?</td>\n",
       "      <td>Kegiatan mahasiswa PENS yang meliputi penalara...</td>\n",
       "    </tr>\n",
       "    <tr>\n",
       "      <th>18</th>\n",
       "      <td>Kegiatan UKM apa saja yang ada di PENS?</td>\n",
       "      <td>Futsal, Volly , Tari, Tenis Meja, Badminton, T...</td>\n",
       "    </tr>\n",
       "    <tr>\n",
       "      <th>19</th>\n",
       "      <td>Organisasi Mahasiswa apa saja yang ada di PENS?</td>\n",
       "      <td>Badan Eksekutif Mahasiswa, Dewan Perwakilan Ma...</td>\n",
       "    </tr>\n",
       "    <tr>\n",
       "      <th>20</th>\n",
       "      <td>Apa saja kemahasiswaan PENS di bidang Kesejaht...</td>\n",
       "      <td>Mulai dari beasiswa, Konsultasi Psikologi dan ...</td>\n",
       "    </tr>\n",
       "    <tr>\n",
       "      <th>21</th>\n",
       "      <td>apa itu beasiswa</td>\n",
       "      <td>\\r\\nBeasiswa adalah bentuk bantuan keuangan ya...</td>\n",
       "    </tr>\n",
       "    <tr>\n",
       "      <th>22</th>\n",
       "      <td>apa itu Politeknik Elektronika Negeri Surabaya?</td>\n",
       "      <td>Politeknik Elektronika Negeri Surabaya atau ya...</td>\n",
       "    </tr>\n",
       "    <tr>\n",
       "      <th>23</th>\n",
       "      <td>Apa itu Himpunan Mahasiswa ?</td>\n",
       "      <td>organisasi mahasiswa tingkat jurusan atau prog...</td>\n",
       "    </tr>\n",
       "    <tr>\n",
       "      <th>24</th>\n",
       "      <td>Apa itu KMIPN?</td>\n",
       "      <td>Kompetisi Mahasiswa Informatika Politeknik Nas...</td>\n",
       "    </tr>\n",
       "    <tr>\n",
       "      <th>25</th>\n",
       "      <td>Apa itu Gemastik?</td>\n",
       "      <td>GEMASTIK atau Pagelaran Mahasiswa Nasional Bid...</td>\n",
       "    </tr>\n",
       "    <tr>\n",
       "      <th>26</th>\n",
       "      <td>Apa itu PMW?</td>\n",
       "      <td>Program Mahasiswa Wirausaha PMW merupakan prog...</td>\n",
       "    </tr>\n",
       "    <tr>\n",
       "      <th>27</th>\n",
       "      <td>Apa itu PWMV ?</td>\n",
       "      <td>Program Pembinaan Mahasiswa Wirausaha P2MW ada...</td>\n",
       "    </tr>\n",
       "    <tr>\n",
       "      <th>28</th>\n",
       "      <td>Kapan KMIPN dilaksanakan?</td>\n",
       "      <td>Kompetisi Mahasiswa Informatika Politeknik Nas...</td>\n",
       "    </tr>\n",
       "    <tr>\n",
       "      <th>29</th>\n",
       "      <td>Kapan  Periode Gemastik dilaksanakan?</td>\n",
       "      <td>Tahap 1, Pendaftaran Perguruan Tinggi : 12 Mei...</td>\n",
       "    </tr>\n",
       "    <tr>\n",
       "      <th>30</th>\n",
       "      <td>Kapan Periode PMW dilakukan?</td>\n",
       "      <td>Sosialisasi : 31 Maret 2023\\r\\nPengumpulan Pro...</td>\n",
       "    </tr>\n",
       "    <tr>\n",
       "      <th>31</th>\n",
       "      <td>Kapan Pendaftaran PMW?</td>\n",
       "      <td>Pendaftaran Paling Lambat 8 Maret 2024</td>\n",
       "    </tr>\n",
       "    <tr>\n",
       "      <th>32</th>\n",
       "      <td>Apa saja Perlombaan yang diadakan tahun ini?</td>\n",
       "      <td>Terdapat GEMASTIK,KMIPN,PORSENI,PMW,P2MW</td>\n",
       "    </tr>\n",
       "    <tr>\n",
       "      <th>33</th>\n",
       "      <td>Apa itu Kampus Merdeka?</td>\n",
       "      <td>Kampus Merdeka merupakan kebijakan Menteri Pen...</td>\n",
       "    </tr>\n",
       "    <tr>\n",
       "      <th>34</th>\n",
       "      <td>Apa saja program Kampus Merdeka?</td>\n",
       "      <td>Terdapat program Kampus Merdeka dari Kemendikb...</td>\n",
       "    </tr>\n",
       "    <tr>\n",
       "      <th>35</th>\n",
       "      <td>Apa yang dimaksud dengan Badan Eksekutif Mahas...</td>\n",
       "      <td>Badan Eksekutif Mahasiswa BEM adalah organisas...</td>\n",
       "    </tr>\n",
       "    <tr>\n",
       "      <th>36</th>\n",
       "      <td>Apa itu PKM?</td>\n",
       "      <td>Program Kreativitas Mahasiswa PKM adalah progr...</td>\n",
       "    </tr>\n",
       "    <tr>\n",
       "      <th>37</th>\n",
       "      <td>Apa saja jenis PKM ?</td>\n",
       "      <td>PKM memiliki lima jenis, yaitu\\r\\nPKM Peneliti...</td>\n",
       "    </tr>\n",
       "    <tr>\n",
       "      <th>38</th>\n",
       "      <td>Bagaimana cara mendaftar PENS?</td>\n",
       "      <td>Untuk mendaftar di Politeknik Elektronika Nege...</td>\n",
       "    </tr>\n",
       "    <tr>\n",
       "      <th>39</th>\n",
       "      <td>Terdapat Jurusan apa saja di PENS?</td>\n",
       "      <td>Politeknik Elektronika Negeri Surabaya (PENS) ...</td>\n",
       "    </tr>\n",
       "  </tbody>\n",
       "</table>\n",
       "</div>"
      ],
      "text/plain": [
       "                                             question  \\\n",
       "0                                  Apa itu Bidikmisi?   \n",
       "1                               Apa tujuan Bidikmisi?   \n",
       "2   Bagaimana pembayaran untuk mahasiswa yang berb...   \n",
       "3   Saya sudah melakukan pembayaran SPP/UKT, Ikoma...   \n",
       "4   Kenapa ketika mencoba membayar ONLINE melalui ...   \n",
       "5   Berapakah jumlah harus dibayarkan untuk UKT/SP...   \n",
       "6        Pembayaran melalui ATM bersama apakah bisa?    \n",
       "7     Bagaimana cara untuk mendaftar beasiswa Adaro ?   \n",
       "8       Bagaimana cara mendaftar beasiwa Djarum Plus?   \n",
       "9    Beasiswa apa saja yang bekerja sama dengan PENS?   \n",
       "10                     Apa itu beasiswa Djarum Plus?    \n",
       "11                        Apa itu kemahasiswaan PENS?   \n",
       "12   Dimana saya bisa menemukan Kemahasiswaan PENS ?    \n",
       "13                             PENS berlokasi dimana?   \n",
       "14  Apa Persyaratan pendaftaran beasiswa Djarum be...   \n",
       "15    Bagaimana Alur pendaftaran Djarum Beasiswa Plus   \n",
       "16  Kapan Pendaftaran Beasiswa Djarum beasiswa Plu...   \n",
       "17      Kegiatan penalaran apa saja yang ada di PENS?   \n",
       "18            Kegiatan UKM apa saja yang ada di PENS?   \n",
       "19    Organisasi Mahasiswa apa saja yang ada di PENS?   \n",
       "20  Apa saja kemahasiswaan PENS di bidang Kesejaht...   \n",
       "21                                   apa itu beasiswa   \n",
       "22    apa itu Politeknik Elektronika Negeri Surabaya?   \n",
       "23                       Apa itu Himpunan Mahasiswa ?   \n",
       "24                                     Apa itu KMIPN?   \n",
       "25                                  Apa itu Gemastik?   \n",
       "26                                       Apa itu PMW?   \n",
       "27                                     Apa itu PWMV ?   \n",
       "28                          Kapan KMIPN dilaksanakan?   \n",
       "29              Kapan  Periode Gemastik dilaksanakan?   \n",
       "30                       Kapan Periode PMW dilakukan?   \n",
       "31                             Kapan Pendaftaran PMW?   \n",
       "32       Apa saja Perlombaan yang diadakan tahun ini?   \n",
       "33                            Apa itu Kampus Merdeka?   \n",
       "34                   Apa saja program Kampus Merdeka?   \n",
       "35  Apa yang dimaksud dengan Badan Eksekutif Mahas...   \n",
       "36                                       Apa itu PKM?   \n",
       "37                               Apa saja jenis PKM ?   \n",
       "38                     Bagaimana cara mendaftar PENS?   \n",
       "39                 Terdapat Jurusan apa saja di PENS?   \n",
       "\n",
       "                                               answer  \n",
       "0   Bidikmisi adalah bantuan biaya pendidikan yang...  \n",
       "1   meningkatkan akses dan kesempatan belajar di p...  \n",
       "2   Mahasiswa berbeasiswa Bidik Misi dibebaskan me...  \n",
       "3   Tidak, Anda harus login ke laman http://online...  \n",
       "4   Perhatikan jadwal pembayaran karena pembayaran...  \n",
       "5   Karena jumlah yang dibayarkan tiap mahasiswa d...  \n",
       "6                                          Tidak Bisa  \n",
       "7   Untuk mendaftar beasiswa adaro dari PENS dapat...  \n",
       "8   Untuk mendaftar beasiswa djarum plus dapat mel...  \n",
       "9   beasiswa yang terdaftar adalah astra, PPA, pem...  \n",
       "10  Program Djarum Beasiswa Plus merupakan beasisw...  \n",
       "11  Kemahasiswaan PENS adalah unit departemen yang...  \n",
       "12  Gedung Kemahasiswaan PENS berlokasi di D4 Lant...  \n",
       "13  Jalan Raya ITS - Kampus PENS Sukolilo Surabaya...  \n",
       "14  Persyaratan pendaftaran adalah:\\r\\nSedang mene...  \n",
       "15  Pendaftar melakukan pendaftaran online dan men...  \n",
       "16  Program Djarum Beasiswa Plus dibuka 1 kali dal...  \n",
       "17  Kegiatan mahasiswa PENS yang meliputi penalara...  \n",
       "18  Futsal, Volly , Tari, Tenis Meja, Badminton, T...  \n",
       "19  Badan Eksekutif Mahasiswa, Dewan Perwakilan Ma...  \n",
       "20  Mulai dari beasiswa, Konsultasi Psikologi dan ...  \n",
       "21  \\r\\nBeasiswa adalah bentuk bantuan keuangan ya...  \n",
       "22  Politeknik Elektronika Negeri Surabaya atau ya...  \n",
       "23  organisasi mahasiswa tingkat jurusan atau prog...  \n",
       "24  Kompetisi Mahasiswa Informatika Politeknik Nas...  \n",
       "25  GEMASTIK atau Pagelaran Mahasiswa Nasional Bid...  \n",
       "26  Program Mahasiswa Wirausaha PMW merupakan prog...  \n",
       "27  Program Pembinaan Mahasiswa Wirausaha P2MW ada...  \n",
       "28  Kompetisi Mahasiswa Informatika Politeknik Nas...  \n",
       "29  Tahap 1, Pendaftaran Perguruan Tinggi : 12 Mei...  \n",
       "30  Sosialisasi : 31 Maret 2023\\r\\nPengumpulan Pro...  \n",
       "31             Pendaftaran Paling Lambat 8 Maret 2024  \n",
       "32           Terdapat GEMASTIK,KMIPN,PORSENI,PMW,P2MW  \n",
       "33  Kampus Merdeka merupakan kebijakan Menteri Pen...  \n",
       "34  Terdapat program Kampus Merdeka dari Kemendikb...  \n",
       "35  Badan Eksekutif Mahasiswa BEM adalah organisas...  \n",
       "36  Program Kreativitas Mahasiswa PKM adalah progr...  \n",
       "37  PKM memiliki lima jenis, yaitu\\r\\nPKM Peneliti...  \n",
       "38  Untuk mendaftar di Politeknik Elektronika Nege...  \n",
       "39  Politeknik Elektronika Negeri Surabaya (PENS) ...  "
      ]
     },
     "execution_count": 2,
     "metadata": {},
     "output_type": "execute_result"
    }
   ],
   "source": [
    "df = pd.read_csv(\"finalDataset.csv\")\n",
    "df.head(40)"
   ]
  },
  {
   "cell_type": "markdown",
   "id": "MZMVLNyqYTCK",
   "metadata": {
    "id": "MZMVLNyqYTCK"
   },
   "source": [
    "# **Case Folding**"
   ]
  },
  {
   "cell_type": "code",
   "execution_count": 3,
   "id": "df6e6af3",
   "metadata": {
    "id": "df6e6af3"
   },
   "outputs": [
    {
     "name": "stdout",
     "output_type": "stream",
     "text": [
      "apa itu politeknik elektronika negeri surabaya?\n",
      "politeknik elektronika negeri surabaya atau yang biasa dikenal dengan pens merupakan salah satu perguruan tinggi negeri terbaik yang menyelenggarakan pendidikan vokasi pada bidang elektronik dan industri. perguruan tinggi yang berkedudukan di surabaya ini resmi berdiri pada tahun 1988.\n"
     ]
    }
   ],
   "source": [
    "data = pd.read_csv(\"finalDataset.csv\")\n",
    "\n",
    "data['question'] = data['question'].str.lower()\n",
    "data['answer'] = data['answer'].str.lower()\n",
    "\n",
    "pertanyaan = data.iloc[22]['question']\n",
    "jawaban = data.iloc[22]['answer']\n",
    "\n",
    "print(pertanyaan)\n",
    "print(jawaban)"
   ]
  },
  {
   "cell_type": "markdown",
   "id": "XFqXivzfTGhq",
   "metadata": {
    "id": "XFqXivzfTGhq"
   },
   "source": [
    "# **Remove Punctuation**"
   ]
  },
  {
   "cell_type": "code",
   "execution_count": 4,
   "id": "ZFHfBZ3mO1QE",
   "metadata": {
    "colab": {
     "base_uri": "https://localhost:8080/"
    },
    "id": "ZFHfBZ3mO1QE",
    "outputId": "5cfea5dc-b1c7-4388-a80e-e6741085dfb5"
   },
   "outputs": [
    {
     "name": "stdout",
     "output_type": "stream",
     "text": [
      "apa itu politeknik elektronika negeri surabaya\n",
      "politeknik elektronika negeri surabaya atau yang biasa dikenal dengan pens merupakan salah satu perguruan tinggi negeri terbaik yang menyelenggarakan pendidikan vokasi pada bidang elektronik dan industri perguruan tinggi yang berkedudukan di surabaya ini resmi berdiri pada tahun 1988\n"
     ]
    }
   ],
   "source": [
    "import re\n",
    "data['question'] = data['question'].str.lower()\n",
    "data['answer'] = data['answer'].str.lower()\n",
    "\n",
    "pertanyaan = data.iloc[22]['question']\n",
    "jawaban = data.iloc[22]['answer']\n",
    "\n",
    "pertanyaan_bersih = re.sub(r'[^\\w\\s]', '', pertanyaan)\n",
    "jawaban_bersih = re.sub(r'[^\\w\\s]', '', jawaban)\n",
    "\n",
    "print(pertanyaan_bersih)\n",
    "print(jawaban_bersih)"
   ]
  },
  {
   "cell_type": "markdown",
   "id": "gLGpuyY9aMwW",
   "metadata": {
    "id": "gLGpuyY9aMwW"
   },
   "source": [
    "# **STRIPPING**\n"
   ]
  },
  {
   "cell_type": "code",
   "execution_count": 5,
   "id": "JD4ILKqFZ_hf",
   "metadata": {
    "id": "JD4ILKqFZ_hf"
   },
   "outputs": [
    {
     "name": "stdout",
     "output_type": "stream",
     "text": [
      "apa itu politeknik elektronika negeri surabaya\n",
      "politeknik elektronika negeri surabaya atau yang biasa dikenal dengan pens merupakan salah satu perguruan tinggi negeri terbaik yang menyelenggarakan pendidikan vokasi pada bidang elektronik dan industri perguruan tinggi yang berkedudukan di surabaya ini resmi berdiri pada tahun 1988\n"
     ]
    }
   ],
   "source": [
    "import re\n",
    "data['question'] = data['question'].str.lower()\n",
    "data['answer'] = data['answer'].str.lower()\n",
    "\n",
    "pertanyaan = data.iloc[22]['question']\n",
    "jawaban = data.iloc[22]['answer']\n",
    "\n",
    "pertanyaan_bersih = re.sub(r'[^\\w\\s]', '', pertanyaan)\n",
    "jawaban_bersih = re.sub(r'[^\\w\\s]', '', jawaban)\n",
    "\n",
    "# Melakukan stripping untuk menghapus spasi di awal dan akhir string\n",
    "pertanyaan_bersih = pertanyaan_bersih.strip()\n",
    "jawaban_bersih = jawaban_bersih.strip()\n",
    "\n",
    "print(pertanyaan_bersih)\n",
    "print(jawaban_bersih)"
   ]
  },
  {
   "cell_type": "code",
   "execution_count": 6,
   "id": "5N0s7BObcv5-",
   "metadata": {
    "colab": {
     "base_uri": "https://localhost:8080/",
     "height": 423
    },
    "id": "5N0s7BObcv5-",
    "outputId": "58a44006-1146-4ef6-aa06-1e4901f00355"
   },
   "outputs": [
    {
     "name": "stdout",
     "output_type": "stream",
     "text": [
      "Tokens Pertanyaan: ['apa', 'itu', 'politeknik', 'elektronika', 'negeri', 'surabaya']\n",
      "Tokens Jawaban: ['politeknik', 'elektronika', 'negeri', 'surabaya', 'atau', 'yang', 'biasa', 'dikenal', 'dengan', 'pens', 'merupakan', 'salah', 'satu', 'perguruan', 'tinggi', 'negeri', 'terbaik', 'yang', 'menyelenggarakan', 'pendidikan', 'vokasi', 'pada', 'bidang', 'elektronik', 'dan', 'industri', 'perguruan', 'tinggi', 'yang', 'berkedudukan', 'di', 'surabaya', 'ini', 'resmi', 'berdiri', 'pada', 'tahun', '1988']\n"
     ]
    }
   ],
   "source": [
    "tokens_pertanyaan = pertanyaan_bersih.split()\n",
    "tokens_jawaban = jawaban_bersih.split()\n",
    "\n",
    "print(\"Tokens Pertanyaan:\", tokens_pertanyaan)\n",
    "print(\"Tokens Jawaban:\", tokens_jawaban)"
   ]
  },
  {
   "cell_type": "markdown",
   "id": "39f22342",
   "metadata": {},
   "source": [
    "# **TF-IDF**"
   ]
  },
  {
   "cell_type": "code",
   "execution_count": 7,
   "id": "5DFoJwcVdP52",
   "metadata": {
    "colab": {
     "base_uri": "https://localhost:8080/",
     "height": 206
    },
    "id": "5DFoJwcVdP52",
    "outputId": "b0dd88e0-8ace-4450-80d0-1036eef85df8"
   },
   "outputs": [
    {
     "name": "stdout",
     "output_type": "stream",
     "text": [
      "Vektor TF-IDF untuk Pertanyaan:\n",
      "[[0.         0.49844628 0.         0.         0.         0.\n",
      "  0.         0.         0.         0.         0.         0.\n",
      "  0.35464863 0.         0.         0.49844628 0.         0.\n",
      "  0.35464863 0.         0.         0.         0.         0.35464863\n",
      "  0.         0.         0.         0.35464863 0.         0.\n",
      "  0.         0.         0.        ]]\n",
      "\n",
      "Vektor TF-IDF untuk Jawaban:\n",
      "[[0.         0.49844628 0.         0.         0.         0.\n",
      "  0.         0.         0.         0.         0.         0.\n",
      "  0.35464863 0.         0.         0.49844628 0.         0.\n",
      "  0.35464863 0.         0.         0.         0.         0.35464863\n",
      "  0.         0.         0.         0.35464863 0.         0.\n",
      "  0.         0.         0.        ]]\n"
     ]
    }
   ],
   "source": [
    "from sklearn.feature_extraction.text import TfidfVectorizer\n",
    "\n",
    "# Gabungkan token pertanyaan dan jawaban menjadi satu dokumen\n",
    "dokumen_pertanyaan = ' '.join(tokens_pertanyaan)\n",
    "dokumen_jawaban = ' '.join(tokens_jawaban)\n",
    "\n",
    "# Inisialisasi objek TfidfVectorizer\n",
    "tfidf_vectorizer = TfidfVectorizer()\n",
    "\n",
    "# Membangun matriks TF-IDF dari dokumen gabungan\n",
    "dokumen_gabungan = [dokumen_pertanyaan, dokumen_jawaban]\n",
    "tfidf_matrix = tfidf_vectorizer.fit_transform(dokumen_gabungan)\n",
    "\n",
    "# Mendapatkan vektor TF-IDF untuk pertanyaan dan jawaban\n",
    "vektor_tfidf_pertanyaan = tfidf_matrix[0].toarray()\n",
    "vektor_tfidf_jawaban = tfidf_matrix[0].toarray()\n",
    "\n",
    "# Menampilkan vektor TF-IDF untuk pertanyaan dan jawaban\n",
    "print(\"Vektor TF-IDF untuk Pertanyaan:\")\n",
    "print(vektor_tfidf_pertanyaan)\n",
    "print(\"\\nVektor TF-IDF untuk Jawaban:\")\n",
    "print(vektor_tfidf_jawaban)\n"
   ]
  },
  {
   "cell_type": "code",
   "execution_count": 8,
   "id": "612bd642",
   "metadata": {},
   "outputs": [
    {
     "name": "stdout",
     "output_type": "stream",
     "text": [
      "Vektor Cosine Similarity antara Pertanyaan dan Jawaban:\n",
      "[[1.]]\n"
     ]
    }
   ],
   "source": [
    "from sklearn.metrics.pairwise import cosine_similarity\n",
    "\n",
    "# Menghitung cosine similarity antara vektor TF-IDF pertanyaan dan jawaban\n",
    "cosine_sim = cosine_similarity(vektor_tfidf_pertanyaan, vektor_tfidf_jawaban)\n",
    "\n",
    "# Menampilkan hasil cosine similarity dalam bentuk vektor\n",
    "print(\"Vektor Cosine Similarity antara Pertanyaan dan Jawaban:\")\n",
    "print(cosine_sim)\n"
   ]
  },
  {
   "cell_type": "code",
   "execution_count": 9,
   "id": "HksM_GGVdenI",
   "metadata": {
    "colab": {
     "base_uri": "https://localhost:8080/",
     "height": 206
    },
    "id": "HksM_GGVdenI",
    "outputId": "22c5c2b3-5344-4ea7-c5c6-f5665e69062b"
   },
   "outputs": [
    {
     "name": "stdout",
     "output_type": "stream",
     "text": [
      "Cosine Similarity antara Pertanyaan dan Jawaban: 1.0\n"
     ]
    }
   ],
   "source": [
    "from sklearn.metrics.pairwise import cosine_similarity\n",
    "\n",
    "# Menghitung cosine similarity antara vektor TF-IDF pertanyaan dan jawaban\n",
    "cosine_sim = cosine_similarity(vektor_tfidf_pertanyaan, vektor_tfidf_jawaban)\n",
    "\n",
    "# Menampilkan hasil cosine similarity\n",
    "print(\"Cosine Similarity antara Pertanyaan dan Jawaban:\", cosine_sim[0][0])\n",
    "\n"
   ]
  },
  {
   "cell_type": "markdown",
   "id": "b256805e",
   "metadata": {},
   "source": [
    "# **Mengurutkan Pertanyaan Tertinggi**\n"
   ]
  },
  {
   "cell_type": "code",
   "execution_count": 10,
   "id": "3925669d",
   "metadata": {},
   "outputs": [
    {
     "name": "stdout",
     "output_type": "stream",
     "text": [
      "Kapan Periode PMW dilakukan?\n",
      "Pertanyaan dengan Similarity Tertinggi:\n",
      "Pertanyaan ke-31: Similarity = 1.0000000000000002, Pertanyaan: Kapan Periode PMW dilakukan?\n",
      "Pertanyaan ke-32: Similarity = 0.5483598247032392, Pertanyaan: Kapan Pendaftaran PMW?\n",
      "Pertanyaan ke-30: Similarity = 0.4644260280077648, Pertanyaan: Kapan  Periode Gemastik dilaksanakan?\n",
      "Pertanyaan ke-27: Similarity = 0.38565877890551165, Pertanyaan: Apa itu PMW?\n",
      "Pertanyaan ke-29: Similarity = 0.22480633817722204, Pertanyaan: Kapan KMIPN dilaksanakan?\n",
      "Pertanyaan ke-17: Similarity = 0.1434859504161519, Pertanyaan: Kapan Pendaftaran Beasiswa Djarum beasiswa Plus dibuka?\n",
      "Pertanyaan ke-5: Similarity = 0.13415333203174565, Pertanyaan: Kenapa ketika mencoba membayar ONLINE melalui ATM/Internet Banking/TELLER pembayaran tidak dapat dilakukan?\n",
      "Pertanyaan ke-50: Similarity = 0.0, Pertanyaan: Bagaimana Kegiatan Belajar di PENS?\n",
      "Pertanyaan ke-14: Similarity = 0.0, Pertanyaan: PENS berlokasi dimana?\n",
      "Pertanyaan ke-20: Similarity = 0.0, Pertanyaan: Organisasi Mahasiswa apa saja yang ada di PENS?\n",
      "Pertanyaan ke-19: Similarity = 0.0, Pertanyaan: Kegiatan UKM apa saja yang ada di PENS?\n",
      "Pertanyaan ke-18: Similarity = 0.0, Pertanyaan: Kegiatan penalaran apa saja yang ada di PENS?\n",
      "Pertanyaan ke-16: Similarity = 0.0, Pertanyaan: Bagaimana Alur pendaftaran Djarum Beasiswa Plus\n",
      "Pertanyaan ke-15: Similarity = 0.0, Pertanyaan: Apa Persyaratan pendaftaran beasiswa Djarum beasiswaplus\n",
      "Pertanyaan ke-13: Similarity = 0.0, Pertanyaan: Dimana saya bisa menemukan Kemahasiswaan PENS ? \n",
      "Pertanyaan ke-22: Similarity = 0.0, Pertanyaan: apa itu beasiswa\n",
      "Pertanyaan ke-12: Similarity = 0.0, Pertanyaan: Apa itu kemahasiswaan PENS?\n",
      "Pertanyaan ke-11: Similarity = 0.0, Pertanyaan: Apa itu beasiswa Djarum Plus? \n",
      "Pertanyaan ke-10: Similarity = 0.0, Pertanyaan: Beasiswa apa saja yang bekerja sama dengan PENS?\n",
      "Pertanyaan ke-9: Similarity = 0.0, Pertanyaan: Bagaimana cara mendaftar beasiwa Djarum Plus?\n",
      "Pertanyaan ke-8: Similarity = 0.0, Pertanyaan: Bagaimana cara untuk mendaftar beasiswa Adaro ?\n",
      "Pertanyaan ke-7: Similarity = 0.0, Pertanyaan: Pembayaran melalui ATM bersama apakah bisa? \n",
      "Pertanyaan ke-6: Similarity = 0.0, Pertanyaan: Berapakah jumlah harus dibayarkan untuk UKT/SPP dan IKOMA?\n",
      "Pertanyaan ke-4: Similarity = 0.0, Pertanyaan: Saya sudah melakukan pembayaran SPP/UKT, Ikoma. Apakah sudah otomatis daftar ulang?\n",
      "Pertanyaan ke-3: Similarity = 0.0, Pertanyaan: Bagaimana pembayaran untuk mahasiswa yang berbeasiswa Bidikmisi?\n",
      "Pertanyaan ke-2: Similarity = 0.0, Pertanyaan: Apa tujuan Bidikmisi?\n",
      "Pertanyaan ke-21: Similarity = 0.0, Pertanyaan: Apa saja kemahasiswaan PENS di bidang Kesejahteraan ?\n",
      "Pertanyaan ke-25: Similarity = 0.0, Pertanyaan: Apa itu KMIPN?\n",
      "Pertanyaan ke-23: Similarity = 0.0, Pertanyaan: apa itu Politeknik Elektronika Negeri Surabaya?\n",
      "Pertanyaan ke-24: Similarity = 0.0, Pertanyaan: Apa itu Himpunan Mahasiswa ?\n",
      "Pertanyaan ke-48: Similarity = 0.0, Pertanyaan: Komunitas yang ada di PENS?\n",
      "Pertanyaan ke-47: Similarity = 0.0, Pertanyaan: Himpunan yang ada di PENS?\n",
      "Pertanyaan ke-46: Similarity = 0.0, Pertanyaan: Fasilitas PENS?\n",
      "Pertanyaan ke-45: Similarity = 0.0, Pertanyaan: Sejarah PENS?\n",
      "Pertanyaan ke-44: Similarity = 0.0, Pertanyaan: Apa itu PENS?\n",
      "Pertanyaan ke-43: Similarity = 0.0, Pertanyaan: Cara melihat jadwal Kuliah Secara Online di PENS?\n",
      "Pertanyaan ke-42: Similarity = 0.0, Pertanyaan: Apa yang dimaksud dengan PORSENI di PENS?\n",
      "Pertanyaan ke-41: Similarity = 0.0, Pertanyaan: Bagaimana cara pendaftaran untuk Kompetisi Mahasiswa Informatika Politeknik Nasional (KMIPN)?\n",
      "Pertanyaan ke-40: Similarity = 0.0, Pertanyaan: Terdapat Jurusan apa saja di PENS?\n",
      "Pertanyaan ke-39: Similarity = 0.0, Pertanyaan: Bagaimana cara mendaftar PENS?\n",
      "Pertanyaan ke-38: Similarity = 0.0, Pertanyaan: Apa saja jenis PKM ?\n",
      "Pertanyaan ke-37: Similarity = 0.0, Pertanyaan: Apa itu PKM?\n",
      "Pertanyaan ke-36: Similarity = 0.0, Pertanyaan: Apa yang dimaksud dengan Badan Eksekutif Mahasiswa (BEM) di PENS?\n",
      "Pertanyaan ke-35: Similarity = 0.0, Pertanyaan: Apa saja program Kampus Merdeka?\n",
      "Pertanyaan ke-34: Similarity = 0.0, Pertanyaan: Apa itu Kampus Merdeka?\n",
      "Pertanyaan ke-33: Similarity = 0.0, Pertanyaan: Apa saja Perlombaan yang diadakan tahun ini?\n",
      "Pertanyaan ke-28: Similarity = 0.0, Pertanyaan: Apa itu PWMV ?\n",
      "Pertanyaan ke-26: Similarity = 0.0, Pertanyaan: Apa itu Gemastik?\n",
      "Pertanyaan ke-49: Similarity = 0.0, Pertanyaan: Prestasi PENS di bidang robotika?\n",
      "Pertanyaan ke-1: Similarity = 0.0, Pertanyaan: Apa itu Bidikmisi?\n"
     ]
    }
   ],
   "source": [
    "import pandas as pd\n",
    "from sklearn.feature_extraction.text import TfidfVectorizer\n",
    "from sklearn.metrics.pairwise import cosine_similarity\n",
    "\n",
    "# Baca dataset dari file CSV\n",
    "df = pd.read_csv(\"finalDataset.csv\")\n",
    "\n",
    "# Pilih pertanyaan nomor 2 sebagai pertanyaan yang ingin Anda bandingkan\n",
    "pertanyaan_yang_ingin_dibandingkan = df[\"question\"].values.astype(\"U\")[30]\n",
    "print(pertanyaan_yang_ingin_dibandingkan)\n",
    "\n",
    "# Pisahkan kolom pertanyaan dari dataset\n",
    "dokumen_pertanyaan = df[\"question\"].values.astype(\"U\")\n",
    "\n",
    "# Inisialisasi TF-IDF Vectorizer\n",
    "vectorizer = TfidfVectorizer()\n",
    "\n",
    "# Membangun matriks TF-IDF dari dokumen pertanyaan\n",
    "vektor_tfidf_pertanyaan = vectorizer.fit_transform(dokumen_pertanyaan)\n",
    "\n",
    "# Misal vektor cosine similarity untuk pertanyaan yang ingin Anda bandingkan\n",
    "vektor_cosine_input = vektor_tfidf_pertanyaan[30].toarray()\n",
    "\n",
    "# Hitung cosine similarity antara vektor cosine input dan vektor cosine pertanyaan\n",
    "similarities = cosine_similarity(vektor_cosine_input, vektor_tfidf_pertanyaan)\n",
    "\n",
    "import numpy as np\n",
    "\n",
    "# Dapatkan indeks similarity terurut secara menurun\n",
    "sorted_indices = np.argsort(similarities[0])[::-1]\n",
    "\n",
    "print(\"Pertanyaan dengan Similarity Tertinggi:\")\n",
    "for i, idx in enumerate(sorted_indices):\n",
    "    similarity = similarities[0][idx]\n",
    "    question = df.loc[idx, \"question\"]\n",
    "    print(f\"Pertanyaan ke-{idx + 1}: Similarity = {similarity}, Pertanyaan: {question}\")\n",
    "\n"
   ]
  },
  {
   "cell_type": "markdown",
   "id": "7f27bd7d",
   "metadata": {},
   "source": [
    "# **Convert Input Cosine Ke Array**\n"
   ]
  },
  {
   "cell_type": "code",
   "execution_count": 11,
   "id": "10c3c5b7",
   "metadata": {},
   "outputs": [
    {
     "name": "stdout",
     "output_type": "stream",
     "text": [
      "Similarity antara Pertanyaan yang Anda Masukkan dan Pertanyaan dalam Dataset:\n",
      "[[0.         0.         0.         0.         0.         0.\n",
      "  0.         0.         0.         0.08793614 0.         0.1564865\n",
      "  0.08682234 0.12755374 0.         0.         0.         0.09480281\n",
      "  0.09480281 0.09682536 0.09597152 0.         0.         0.\n",
      "  0.         0.         0.         0.         0.         0.\n",
      "  0.         0.         0.         0.         0.         0.07343423\n",
      "  0.         0.         0.13140678 0.10381011 0.         0.09634273\n",
      "  0.07471041 0.22642319 0.16545254 1.         0.12117097 0.1165138\n",
      "  0.09928026 0.11099287]]\n"
     ]
    }
   ],
   "source": [
    "import pandas as pd\n",
    "from sklearn.feature_extraction.text import TfidfVectorizer\n",
    "from sklearn.metrics.pairwise import cosine_similarity\n",
    "\n",
    "# Baca dataset dari file CSV\n",
    "df = pd.read_csv(\"finalDataset.csv\")\n",
    "\n",
    "# Pertanyaan yang Anda ingin bandingkan (misalnya)\n",
    "pertanyaan_input = \"Fasilitas PENS\"\n",
    "\n",
    "# Preprocessing pada pertanyaan yang Anda masukkan\n",
    "# Lakukan preprocessing teks sesuai dengan preprocessing yang dilakukan pada dataset\n",
    "# Misalnya, lowercasing, tokenization, dan menghilangkan stopwords\n",
    "\n",
    "# Inisialisasi TF-IDF Vectorizer\n",
    "vectorizer = TfidfVectorizer()\n",
    "\n",
    "# Membangun matriks TF-IDF dari dokumen pertanyaan dalam dataset\n",
    "dokumen_pertanyaan = df[\"question\"].values.astype(\"U\")\n",
    "vektor_tfidf_pertanyaan = vectorizer.fit_transform(dokumen_pertanyaan)\n",
    "\n",
    "# Ubah pertanyaan yang Anda masukkan menjadi vektor TF-IDF\n",
    "vektor_tfidf_input = vectorizer.transform([pertanyaan_input])\n",
    "\n",
    "# Hitung cosine similarity antara vektor TF-IDF pertanyaan input dan setiap vektor TF-IDF pertanyaan dalam dataset\n",
    "similarities = cosine_similarity(vektor_tfidf_input, vektor_tfidf_pertanyaan)\n",
    "\n",
    "# Tampilkan similarity antara pertanyaan yang Anda masukkan dan setiap pertanyaan dalam dataset dalam bentuk array\n",
    "print(\"Similarity antara Pertanyaan yang Anda Masukkan dan Pertanyaan dalam Dataset:\")\n",
    "print(similarities)\n"
   ]
  },
  {
   "cell_type": "code",
   "execution_count": 12,
   "id": "85ebfb81",
   "metadata": {},
   "outputs": [
    {
     "name": "stdout",
     "output_type": "stream",
     "text": [
      "[0.08793614 0.         0.1564865  0.08682234 0.12755374 0.\n",
      " 0.         0.         0.09480281 0.09480281 0.09682536 0.09597152\n",
      " 0.         0.         0.         0.         0.         0.\n",
      " 0.         0.         0.         0.         0.         0.\n",
      " 0.         0.         0.07343423 0.         0.         0.13140678\n",
      " 0.10381011 0.         0.09634273 0.07471041 0.22642319 0.16545254\n",
      " 1.         0.12117097 0.1165138  0.09928026 0.11099287]\n"
     ]
    }
   ],
   "source": [
    "import numpy as np\n",
    "\n",
    "# Array similarity yang Anda miliki\n",
    "similarity_array = np.array([[0.20027504, 0.0530882, 0., 0., 0., 0., 0., 0., 0., 0.03504655, 0.14915431, 0.18486088, 0., 0., 0.03752827, 0., 0., 0.03778323, 0.03778323, 0.0385893, 0.03824901, 0.22622859, 1., 0.15910842, 0.20027504, 0.19064931, 0.20027504, 0.1781967, 0., 0., 0., 0., 0.03263786, 0.14844788, 0.04054495, 0.02926688, 0.19064931, 0.04707026, 0., 0.04137305, 0.14736254, 0.03839695, 0., 0.2674786, 0., 0., 0., 0., 0., 0.]])\n",
    "\n",
    "# Hilangkan elemen-elemen nol yang tidak perlu\n",
    "trimmed_similarity_array = np.trim_zeros(similarities[0])\n",
    "\n",
    "# Tampilkan array similarity setelah di-trim\n",
    "print(trimmed_similarity_array)\n"
   ]
  },
  {
   "cell_type": "markdown",
   "id": "6ecf6bd7-776c-4ea8-a12a-85bfa843b253",
   "metadata": {},
   "source": [
    "# **FIlter CSV**\n"
   ]
  },
  {
   "cell_type": "code",
   "execution_count": 19,
   "id": "90680fb1-75b9-4ebe-bd58-dc9a9afc5897",
   "metadata": {},
   "outputs": [
    {
     "ename": "TypeError",
     "evalue": "'function' object is not subscriptable",
     "output_type": "error",
     "traceback": [
      "\u001b[1;31m---------------------------------------------------------------------------\u001b[0m",
      "\u001b[1;31mTypeError\u001b[0m                                 Traceback (most recent call last)",
      "Cell \u001b[1;32mIn[19], line 8\u001b[0m\n\u001b[0;32m      5\u001b[0m data \u001b[38;5;241m=\u001b[39m pd\u001b[38;5;241m.\u001b[39mread_csv\n\u001b[0;32m      7\u001b[0m \u001b[38;5;66;03m# Extract only the required columns\u001b[39;00m\n\u001b[1;32m----> 8\u001b[0m filtered_data \u001b[38;5;241m=\u001b[39m \u001b[43mdata\u001b[49m\u001b[43m[\u001b[49m\u001b[43m[\u001b[49m\u001b[38;5;124;43m'\u001b[39;49m\u001b[38;5;124;43mjawaban\u001b[39;49m\u001b[38;5;124;43m'\u001b[39;49m\u001b[43m,\u001b[49m\u001b[43m \u001b[49m\u001b[38;5;124;43m'\u001b[39;49m\u001b[38;5;124;43mcosine\u001b[39;49m\u001b[38;5;124;43m'\u001b[39;49m\u001b[43m,\u001b[49m\u001b[43m \u001b[49m\u001b[38;5;124;43m'\u001b[39;49m\u001b[38;5;124;43mscore\u001b[39;49m\u001b[38;5;124;43m'\u001b[39;49m\u001b[43m]\u001b[49m\u001b[43m]\u001b[49m\n\u001b[0;32m     10\u001b[0m \u001b[38;5;66;03m# Rename 'pertanyaanId' to 'pertanyaan'\u001b[39;00m\n\u001b[0;32m     11\u001b[0m filtered_data \u001b[38;5;241m=\u001b[39m filtered_data\u001b[38;5;241m.\u001b[39mrename(columns\u001b[38;5;241m=\u001b[39m{\u001b[38;5;124m'\u001b[39m\u001b[38;5;124mpertanyaanId\u001b[39m\u001b[38;5;124m'\u001b[39m: \u001b[38;5;124m'\u001b[39m\u001b[38;5;124mpertanyaan\u001b[39m\u001b[38;5;124m'\u001b[39m})\n",
      "\u001b[1;31mTypeError\u001b[0m: 'function' object is not subscriptable"
     ]
    }
   ],
   "source": [
    "import pandas as pd\n",
    "\n",
    "# Load the CSV file\n",
    "file_path = \"model_trained.csv\"\n",
    "data = pd.read_csv\n",
    "print('data')\n",
    "# Extract only the required columns\n",
    "filtered_data = data[['jawaban', 'cosine', 'score']]\n",
    "\n",
    "# Rename 'pertanyaanId' to 'pertanyaan'\n",
    "filtered_data = filtered_data.rename(columns={'pertanyaanId': 'pertanyaan'})\n",
    "\n",
    "# Display the first few rows of the filtered DataFrame\n",
    "print(filtered_data.head())\n",
    "\n"
   ]
  },
  {
   "cell_type": "code",
   "execution_count": null,
   "id": "c3f9c9b7-a3e3-46eb-898b-496ddab5e49f",
   "metadata": {},
   "outputs": [],
   "source": []
  }
 ],
 "metadata": {
  "colab": {
   "include_colab_link": true,
   "name": "DL_Chatbot.ipynb",
   "provenance": [],
   "toc_visible": true
  },
  "gpuClass": "standard",
  "kernelspec": {
   "display_name": "Python 3 (ipykernel)",
   "language": "python",
   "name": "python3"
  },
  "language_info": {
   "codemirror_mode": {
    "name": "ipython",
    "version": 3
   },
   "file_extension": ".py",
   "mimetype": "text/x-python",
   "name": "python",
   "nbconvert_exporter": "python",
   "pygments_lexer": "ipython3",
   "version": "3.12.4"
  },
  "latex_envs": {
   "LaTeX_envs_menu_present": true,
   "autoclose": false,
   "autocomplete": true,
   "bibliofile": "biblio.bib",
   "cite_by": "apalike",
   "current_citInitial": 1,
   "eqLabelWithNumbers": true,
   "eqNumInitial": 1,
   "hotkeys": {
    "equation": "Ctrl-E",
    "itemize": "Ctrl-I"
   },
   "labels_anchors": false,
   "latex_user_defs": false,
   "report_style_numbering": false,
   "user_envs_cfg": false
  },
  "varInspector": {
   "cols": {
    "lenName": 16,
    "lenType": 16,
    "lenVar": 40
   },
   "kernels_config": {
    "python": {
     "delete_cmd_postfix": "",
     "delete_cmd_prefix": "del ",
     "library": "var_list.py",
     "varRefreshCmd": "print(var_dic_list())"
    },
    "r": {
     "delete_cmd_postfix": ") ",
     "delete_cmd_prefix": "rm(",
     "library": "var_list.r",
     "varRefreshCmd": "cat(var_dic_list()) "
    }
   },
   "types_to_exclude": [
    "module",
    "function",
    "builtin_function_or_method",
    "instance",
    "_Feature"
   ],
   "window_display": false
  },
  "vscode": {
   "interpreter": {
    "hash": "1c42a3b7351d4e126914046d0cf73671fa51356b706c0d32a1c4a2058e3a2e41"
   }
  }
 },
 "nbformat": 4,
 "nbformat_minor": 5
}
