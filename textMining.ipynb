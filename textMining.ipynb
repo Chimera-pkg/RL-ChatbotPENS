{
  "cells": [
    {
      "cell_type": "markdown",
      "metadata": {
        "colab_type": "text",
        "id": "view-in-github"
      },
      "source": [
        "<a href=\"https://colab.research.google.com/github/fendy07/chatbot-AI/blob/master/DL_Chatbot.ipynb\" target=\"_parent\"><img src=\"https://colab.research.google.com/assets/colab-badge.svg\" alt=\"Open In Colab\"/></a>"
      ]
    },
    {
      "cell_type": "markdown",
      "id": "d18e160a",
      "metadata": {
        "id": "d18e160a"
      },
      "source": [
        "# **AI Chatbot Using Long Short Term Memory Algorithm**\n",
        "\n",
        "<b>Chatbot</b> merupakan bagian dari Natural Language Processing yang digunakan untuk percakapan dengan pengguna melalui teks dan ucapan. Pada praktik hari ini kita akan membuat sebuah chat otomatis atau chatbot tentang program Kampus Merdeka dari Kementerian Pendidikan Kebudayaan Riset dan Teknologi (KEMENDIKBUDRISTEK).\n",
        "\n",
        "Dalam tahapan Chatbot ini ada tahapan yang harus kita perhatikan yaitu,\n",
        "\n",
        "1. Import Library\n",
        "2. Load Dataset\n",
        "3. Preprocessing Data\n",
        "4. Input Length, Output Length and Vocabulary\n",
        "5. Long Short Term Memory Model\n",
        "6. Evaluation Model Analysis\n",
        "7. Testing Chatbot\n",
        "8. Save The Model\n",
        "\n",
        "Dalam proyek ini, kita akan membuat chatbot tentang program Kampus Merdeka!\n",
        "\n",
        "Sumber code: [Medium - Going Merry With Tensorflow 2.0](https://medium.com/analytics-vidhya/chatbot-with-tensorflow-2-0-going-merry-2f79284a6104)"
      ]
    },
    {
      "cell_type": "markdown",
      "id": "xaowz3BO9B8l",
      "metadata": {
        "id": "xaowz3BO9B8l"
      },
      "source": [
        "## **Download Dataset From GitHub**\n",
        "\n",
        "Setelah kita mengetahui apa saja alur yang digunakan untuk membuat proyek AI Chatbot maka tahapan selanjutnya adalah mengunduh atau download dataset dari GitHub milik Fendy Hendriyanto pada bagian repository AI Chatbot. Link: [Chatbot-AI](https://github.com/fendy07/chatbot-AI)"
      ]
    },
    {
      "cell_type": "code",
      "execution_count": 39,
      "id": "d6cd8b1e",
      "metadata": {},
      "outputs": [],
      "source": [
        "import pandas as pd"
      ]
    },
    {
      "cell_type": "code",
      "execution_count": 40,
      "id": "QEn68nGv9k5e",
      "metadata": {
        "colab": {
          "base_uri": "https://localhost:8080/"
        },
        "id": "QEn68nGv9k5e",
        "outputId": "e23bda52-a2d6-4216-867e-06d05424e3a0"
      },
      "outputs": [
        {
          "data": {
            "text/html": [
              "<div>\n",
              "<style scoped>\n",
              "    .dataframe tbody tr th:only-of-type {\n",
              "        vertical-align: middle;\n",
              "    }\n",
              "\n",
              "    .dataframe tbody tr th {\n",
              "        vertical-align: top;\n",
              "    }\n",
              "\n",
              "    .dataframe thead th {\n",
              "        text-align: right;\n",
              "    }\n",
              "</style>\n",
              "<table border=\"1\" class=\"dataframe\">\n",
              "  <thead>\n",
              "    <tr style=\"text-align: right;\">\n",
              "      <th></th>\n",
              "      <th>question</th>\n",
              "      <th>answer</th>\n",
              "    </tr>\n",
              "  </thead>\n",
              "  <tbody>\n",
              "    <tr>\n",
              "      <th>0</th>\n",
              "      <td>Apa itu Bidikmisi?</td>\n",
              "      <td>Bidikmisi adalah bantuan biaya pendidikan yang...</td>\n",
              "    </tr>\n",
              "    <tr>\n",
              "      <th>1</th>\n",
              "      <td>Apa tujuan Bidikmisi?</td>\n",
              "      <td>meningkatkan akses dan kesempatan belajar di p...</td>\n",
              "    </tr>\n",
              "    <tr>\n",
              "      <th>2</th>\n",
              "      <td>Bagaimana pembayaran untuk mahasiswa yang berb...</td>\n",
              "      <td>Mahasiswa berbeasiswa Bidik Misi dibebaskan me...</td>\n",
              "    </tr>\n",
              "    <tr>\n",
              "      <th>3</th>\n",
              "      <td>Saya sudah melakukan pembayaran SPP/UKT, Ikoma...</td>\n",
              "      <td>Tidak, Anda harus login ke laman http://online...</td>\n",
              "    </tr>\n",
              "    <tr>\n",
              "      <th>4</th>\n",
              "      <td>Kenapa ketika mencoba membayar ONLINE melalui ...</td>\n",
              "      <td>Perhatikan jadwal pembayaran karena pembayaran...</td>\n",
              "    </tr>\n",
              "    <tr>\n",
              "      <th>5</th>\n",
              "      <td>Berapakah jumlah harus dibayarkan untuk UKT/SP...</td>\n",
              "      <td>Karena jumlah yang dibayarkan tiap mahasiswa d...</td>\n",
              "    </tr>\n",
              "    <tr>\n",
              "      <th>6</th>\n",
              "      <td>Pembayaran melalui ATM bersama apakah bisa?</td>\n",
              "      <td>Tidak Bisa</td>\n",
              "    </tr>\n",
              "    <tr>\n",
              "      <th>7</th>\n",
              "      <td>Bagaimana cara untuk mendaftar beasiswa Adaro ?</td>\n",
              "      <td>Untuk mendaftar beasiswa adaro dari PENS dapat...</td>\n",
              "    </tr>\n",
              "    <tr>\n",
              "      <th>8</th>\n",
              "      <td>Bagaimana cara mendaftar beasiwa Djarum Plus?</td>\n",
              "      <td>Untuk mendaftar beasiswa djarum plus dapat mel...</td>\n",
              "    </tr>\n",
              "    <tr>\n",
              "      <th>9</th>\n",
              "      <td>Beasiswa apa saja yang bekerja sama dengan PENS?</td>\n",
              "      <td>beasiswa yang terdaftar adalah astra, PPA, pem...</td>\n",
              "    </tr>\n",
              "    <tr>\n",
              "      <th>10</th>\n",
              "      <td>Apa itu beasiswa Djarum plus</td>\n",
              "      <td>Program Djarum Beasiswa Plus merupakan beasisw...</td>\n",
              "    </tr>\n",
              "    <tr>\n",
              "      <th>11</th>\n",
              "      <td>Apa itu kemahasiswaan PENS?</td>\n",
              "      <td>Kemahasiswaan PENS adalah unit departemen yang...</td>\n",
              "    </tr>\n",
              "    <tr>\n",
              "      <th>12</th>\n",
              "      <td>Dimana saya bisa menemukan Kemahasiswaan PENS ?</td>\n",
              "      <td>Gedung Kemahasiswaan PENS berlokasi di D4 Lant...</td>\n",
              "    </tr>\n",
              "    <tr>\n",
              "      <th>13</th>\n",
              "      <td>PENS berlokasi dimana?</td>\n",
              "      <td>Jalan Raya ITS - Kampus PENS Sukolilo Surabaya...</td>\n",
              "    </tr>\n",
              "    <tr>\n",
              "      <th>14</th>\n",
              "      <td>Apa Persyaratan pendaftaran beasiswa Djarum be...</td>\n",
              "      <td>Persyaratan pendaftaran adalah:\\r\\nSedang mene...</td>\n",
              "    </tr>\n",
              "    <tr>\n",
              "      <th>15</th>\n",
              "      <td>Bagaimana Alur pendaftaran Djarum Beasiswa Plus</td>\n",
              "      <td>Pendaftar melakukan pendaftaran online dan men...</td>\n",
              "    </tr>\n",
              "    <tr>\n",
              "      <th>16</th>\n",
              "      <td>Kapan Pendaftaran Beasiswa Djarum beasiswa Plu...</td>\n",
              "      <td>Program Djarum Beasiswa Plus dibuka 1 kali dal...</td>\n",
              "    </tr>\n",
              "    <tr>\n",
              "      <th>17</th>\n",
              "      <td>Kegiatan penalaran apa saja yang ada di PENS?</td>\n",
              "      <td>Kegiatan mahasiswa PENS yang meliputi penalara...</td>\n",
              "    </tr>\n",
              "    <tr>\n",
              "      <th>18</th>\n",
              "      <td>Kegiatan UKM apa saja yang ada di PENS?</td>\n",
              "      <td>Futsal, Volly , Tari, Tenis Meja, Badminton, T...</td>\n",
              "    </tr>\n",
              "    <tr>\n",
              "      <th>19</th>\n",
              "      <td>Organisasi Mahasiswa apa saja yang ada di PENS?</td>\n",
              "      <td>Badan Eksekutif Mahasiswa, Dewan Perwakilan Ma...</td>\n",
              "    </tr>\n",
              "    <tr>\n",
              "      <th>20</th>\n",
              "      <td>Apa saja kemahasiswaan PENS di bidang Kesejaht...</td>\n",
              "      <td>Mulai dari beasiswa, Konsultasi Psikologi dan ...</td>\n",
              "    </tr>\n",
              "    <tr>\n",
              "      <th>21</th>\n",
              "      <td>apa itu beasiswa</td>\n",
              "      <td>\\nBeasiswa adalah bentuk bantuan keuangan yang...</td>\n",
              "    </tr>\n",
              "    <tr>\n",
              "      <th>22</th>\n",
              "      <td>apa itu Politeknik Elektronika Negeri Surabaya?</td>\n",
              "      <td>Politeknik Elektronika Negeri Surabaya atau ya...</td>\n",
              "    </tr>\n",
              "    <tr>\n",
              "      <th>23</th>\n",
              "      <td>Apa itu Himpunan Mahasiswa ?</td>\n",
              "      <td>organisasi mahasiswa tingkat jurusan atau prog...</td>\n",
              "    </tr>\n",
              "    <tr>\n",
              "      <th>24</th>\n",
              "      <td>Apa itu KMIPN?</td>\n",
              "      <td>Kompetisi Mahasiswa Informatika Politeknik Nas...</td>\n",
              "    </tr>\n",
              "    <tr>\n",
              "      <th>25</th>\n",
              "      <td>Apa itu Gemastik?</td>\n",
              "      <td>GEMASTIK atau Pagelaran Mahasiswa Nasional Bid...</td>\n",
              "    </tr>\n",
              "    <tr>\n",
              "      <th>26</th>\n",
              "      <td>Apa itu PMW?</td>\n",
              "      <td>Program Mahasiswa Wirausaha PMW merupakan prog...</td>\n",
              "    </tr>\n",
              "    <tr>\n",
              "      <th>27</th>\n",
              "      <td>Apa itu PWMV ?</td>\n",
              "      <td>Program Pembinaan Mahasiswa Wirausaha P2MW ada...</td>\n",
              "    </tr>\n",
              "    <tr>\n",
              "      <th>28</th>\n",
              "      <td>Kapan KMIPN dilaksanakan?</td>\n",
              "      <td>Kompetisi Mahasiswa Informatika Politeknik Nas...</td>\n",
              "    </tr>\n",
              "    <tr>\n",
              "      <th>29</th>\n",
              "      <td>Kapan  Periode Gemastik dilaksanakan?</td>\n",
              "      <td>Tahap 1, Pendaftaran Perguruan Tinggi : 12 Mei...</td>\n",
              "    </tr>\n",
              "    <tr>\n",
              "      <th>30</th>\n",
              "      <td>Kapan Periode PMW dilakukan?</td>\n",
              "      <td>Sosialisasi : 31 Maret 2023\\r\\nPengumpulan Pro...</td>\n",
              "    </tr>\n",
              "    <tr>\n",
              "      <th>31</th>\n",
              "      <td>Kapan Pendaftaran PMW?</td>\n",
              "      <td>Pendaftaran Paling Lambat 8 Maret 2024</td>\n",
              "    </tr>\n",
              "    <tr>\n",
              "      <th>32</th>\n",
              "      <td>Apa saja Perlombaan yang diadakan tahun ini?</td>\n",
              "      <td>Terdapat GEMASTIK,KMIPN,PORSENI,PMW,P2MW</td>\n",
              "    </tr>\n",
              "    <tr>\n",
              "      <th>33</th>\n",
              "      <td>Apa itu Kampus Merdeka?</td>\n",
              "      <td>Kampus Merdeka merupakan kebijakan Menteri Pen...</td>\n",
              "    </tr>\n",
              "    <tr>\n",
              "      <th>34</th>\n",
              "      <td>Apa saja program Kampus Merdeka?</td>\n",
              "      <td>Terdapat program Kampus Merdeka dari Kemendikb...</td>\n",
              "    </tr>\n",
              "    <tr>\n",
              "      <th>35</th>\n",
              "      <td>Apa itu BEM PENS?</td>\n",
              "      <td>Badan Eksekutif Mahasiswa BEM adalah organisas...</td>\n",
              "    </tr>\n",
              "    <tr>\n",
              "      <th>36</th>\n",
              "      <td>Apa itu PKM?</td>\n",
              "      <td>Program Kreativitas Mahasiswa PKM adalah progr...</td>\n",
              "    </tr>\n",
              "    <tr>\n",
              "      <th>37</th>\n",
              "      <td>apa saja jenis PKM ?</td>\n",
              "      <td>PKM memiliki lima jenis, yaitu\\nPKM Penelitian...</td>\n",
              "    </tr>\n",
              "  </tbody>\n",
              "</table>\n",
              "</div>"
            ],
            "text/plain": [
              "                                             question  \\\n",
              "0                                  Apa itu Bidikmisi?   \n",
              "1                               Apa tujuan Bidikmisi?   \n",
              "2   Bagaimana pembayaran untuk mahasiswa yang berb...   \n",
              "3   Saya sudah melakukan pembayaran SPP/UKT, Ikoma...   \n",
              "4   Kenapa ketika mencoba membayar ONLINE melalui ...   \n",
              "5   Berapakah jumlah harus dibayarkan untuk UKT/SP...   \n",
              "6        Pembayaran melalui ATM bersama apakah bisa?    \n",
              "7     Bagaimana cara untuk mendaftar beasiswa Adaro ?   \n",
              "8       Bagaimana cara mendaftar beasiwa Djarum Plus?   \n",
              "9    Beasiswa apa saja yang bekerja sama dengan PENS?   \n",
              "10                      Apa itu beasiswa Djarum plus    \n",
              "11                        Apa itu kemahasiswaan PENS?   \n",
              "12   Dimana saya bisa menemukan Kemahasiswaan PENS ?    \n",
              "13                             PENS berlokasi dimana?   \n",
              "14  Apa Persyaratan pendaftaran beasiswa Djarum be...   \n",
              "15    Bagaimana Alur pendaftaran Djarum Beasiswa Plus   \n",
              "16  Kapan Pendaftaran Beasiswa Djarum beasiswa Plu...   \n",
              "17      Kegiatan penalaran apa saja yang ada di PENS?   \n",
              "18            Kegiatan UKM apa saja yang ada di PENS?   \n",
              "19    Organisasi Mahasiswa apa saja yang ada di PENS?   \n",
              "20  Apa saja kemahasiswaan PENS di bidang Kesejaht...   \n",
              "21                                   apa itu beasiswa   \n",
              "22    apa itu Politeknik Elektronika Negeri Surabaya?   \n",
              "23                       Apa itu Himpunan Mahasiswa ?   \n",
              "24                                     Apa itu KMIPN?   \n",
              "25                                  Apa itu Gemastik?   \n",
              "26                                       Apa itu PMW?   \n",
              "27                                     Apa itu PWMV ?   \n",
              "28                          Kapan KMIPN dilaksanakan?   \n",
              "29              Kapan  Periode Gemastik dilaksanakan?   \n",
              "30                       Kapan Periode PMW dilakukan?   \n",
              "31                             Kapan Pendaftaran PMW?   \n",
              "32       Apa saja Perlombaan yang diadakan tahun ini?   \n",
              "33                            Apa itu Kampus Merdeka?   \n",
              "34                   Apa saja program Kampus Merdeka?   \n",
              "35                                  Apa itu BEM PENS?   \n",
              "36                                       Apa itu PKM?   \n",
              "37                               apa saja jenis PKM ?   \n",
              "\n",
              "                                               answer  \n",
              "0   Bidikmisi adalah bantuan biaya pendidikan yang...  \n",
              "1   meningkatkan akses dan kesempatan belajar di p...  \n",
              "2   Mahasiswa berbeasiswa Bidik Misi dibebaskan me...  \n",
              "3   Tidak, Anda harus login ke laman http://online...  \n",
              "4   Perhatikan jadwal pembayaran karena pembayaran...  \n",
              "5   Karena jumlah yang dibayarkan tiap mahasiswa d...  \n",
              "6                                          Tidak Bisa  \n",
              "7   Untuk mendaftar beasiswa adaro dari PENS dapat...  \n",
              "8   Untuk mendaftar beasiswa djarum plus dapat mel...  \n",
              "9   beasiswa yang terdaftar adalah astra, PPA, pem...  \n",
              "10  Program Djarum Beasiswa Plus merupakan beasisw...  \n",
              "11  Kemahasiswaan PENS adalah unit departemen yang...  \n",
              "12  Gedung Kemahasiswaan PENS berlokasi di D4 Lant...  \n",
              "13  Jalan Raya ITS - Kampus PENS Sukolilo Surabaya...  \n",
              "14  Persyaratan pendaftaran adalah:\\r\\nSedang mene...  \n",
              "15  Pendaftar melakukan pendaftaran online dan men...  \n",
              "16  Program Djarum Beasiswa Plus dibuka 1 kali dal...  \n",
              "17  Kegiatan mahasiswa PENS yang meliputi penalara...  \n",
              "18  Futsal, Volly , Tari, Tenis Meja, Badminton, T...  \n",
              "19  Badan Eksekutif Mahasiswa, Dewan Perwakilan Ma...  \n",
              "20  Mulai dari beasiswa, Konsultasi Psikologi dan ...  \n",
              "21  \\nBeasiswa adalah bentuk bantuan keuangan yang...  \n",
              "22  Politeknik Elektronika Negeri Surabaya atau ya...  \n",
              "23  organisasi mahasiswa tingkat jurusan atau prog...  \n",
              "24  Kompetisi Mahasiswa Informatika Politeknik Nas...  \n",
              "25  GEMASTIK atau Pagelaran Mahasiswa Nasional Bid...  \n",
              "26  Program Mahasiswa Wirausaha PMW merupakan prog...  \n",
              "27  Program Pembinaan Mahasiswa Wirausaha P2MW ada...  \n",
              "28  Kompetisi Mahasiswa Informatika Politeknik Nas...  \n",
              "29  Tahap 1, Pendaftaran Perguruan Tinggi : 12 Mei...  \n",
              "30  Sosialisasi : 31 Maret 2023\\r\\nPengumpulan Pro...  \n",
              "31             Pendaftaran Paling Lambat 8 Maret 2024  \n",
              "32           Terdapat GEMASTIK,KMIPN,PORSENI,PMW,P2MW  \n",
              "33  Kampus Merdeka merupakan kebijakan Menteri Pen...  \n",
              "34  Terdapat program Kampus Merdeka dari Kemendikb...  \n",
              "35  Badan Eksekutif Mahasiswa BEM adalah organisas...  \n",
              "36  Program Kreativitas Mahasiswa PKM adalah progr...  \n",
              "37  PKM memiliki lima jenis, yaitu\\nPKM Penelitian...  "
            ]
          },
          "execution_count": 40,
          "metadata": {},
          "output_type": "execute_result"
        }
      ],
      "source": [
        "df = pd.read_csv(\"train_new.csv\")\n",
        "df.head(40)"
      ]
    },
    {
      "cell_type": "markdown",
      "id": "MZMVLNyqYTCK",
      "metadata": {
        "id": "MZMVLNyqYTCK"
      },
      "source": [
        "# **Case Folding**"
      ]
    },
    {
      "cell_type": "code",
      "execution_count": 41,
      "id": "df6e6af3",
      "metadata": {
        "id": "df6e6af3"
      },
      "outputs": [
        {
          "name": "stdout",
          "output_type": "stream",
          "text": [
            "kenapa ketika mencoba membayar online melalui atm/internet banking/teller pembayaran tidak dapat dilakukan?\n",
            "perhatikan jadwal pembayaran karena pembayaran dibuka dan ditutup sesuai kalender akademik\n"
          ]
        }
      ],
      "source": [
        "data = pd.read_csv(\"train_new.csv\")\n",
        "\n",
        "data['question'] = data['question'].str.lower()\n",
        "data['answer'] = data['answer'].str.lower()\n",
        "\n",
        "pertanyaan = data.iloc[4]['question']\n",
        "jawaban = data.iloc[4]['answer']\n",
        "\n",
        "print(pertanyaan)\n",
        "print(jawaban)"
      ]
    },
    {
      "cell_type": "markdown",
      "id": "XFqXivzfTGhq",
      "metadata": {
        "id": "XFqXivzfTGhq"
      },
      "source": [
        "# **Remove Punctuation**"
      ]
    },
    {
      "cell_type": "code",
      "execution_count": 45,
      "id": "ZFHfBZ3mO1QE",
      "metadata": {
        "colab": {
          "base_uri": "https://localhost:8080/"
        },
        "id": "ZFHfBZ3mO1QE",
        "outputId": "5cfea5dc-b1c7-4388-a80e-e6741085dfb5"
      },
      "outputs": [
        {
          "name": "stdout",
          "output_type": "stream",
          "text": [
            "kenapa ketika mencoba membayar online melalui atminternet bankingteller pembayaran tidak dapat dilakukan\n",
            "perhatikan jadwal pembayaran karena pembayaran dibuka dan ditutup sesuai kalender akademik\n"
          ]
        }
      ],
      "source": [
        "import re\n",
        "data['question'] = data['question'].str.lower()\n",
        "data['answer'] = data['answer'].str.lower()\n",
        "\n",
        "pertanyaan = data.iloc[4]['question']\n",
        "jawaban = data.iloc[4]['answer']\n",
        "\n",
        "pertanyaan_bersih = re.sub(r'[^\\w\\s]', '', pertanyaan)\n",
        "jawaban_bersih = re.sub(r'[^\\w\\s]', '', jawaban)\n",
        "\n",
        "print(pertanyaan_bersih)\n",
        "print(jawaban_bersih)"
      ]
    },
    {
      "cell_type": "markdown",
      "id": "gLGpuyY9aMwW",
      "metadata": {
        "id": "gLGpuyY9aMwW"
      },
      "source": [
        "# **STRIPPING**\n"
      ]
    },
    {
      "cell_type": "code",
      "execution_count": 46,
      "id": "JD4ILKqFZ_hf",
      "metadata": {
        "id": "JD4ILKqFZ_hf"
      },
      "outputs": [
        {
          "name": "stdout",
          "output_type": "stream",
          "text": [
            "kenapa ketika mencoba membayar online melalui atminternet bankingteller pembayaran tidak dapat dilakukan\n",
            "perhatikan jadwal pembayaran karena pembayaran dibuka dan ditutup sesuai kalender akademik\n"
          ]
        }
      ],
      "source": [
        "import re\n",
        "data['question'] = data['question'].str.lower()\n",
        "data['answer'] = data['answer'].str.lower()\n",
        "\n",
        "pertanyaan = data.iloc[4]['question']\n",
        "jawaban = data.iloc[4]['answer']\n",
        "\n",
        "pertanyaan_bersih = re.sub(r'[^\\w\\s]', '', pertanyaan)\n",
        "jawaban_bersih = re.sub(r'[^\\w\\s]', '', jawaban)\n",
        "\n",
        "# Melakukan stripping untuk menghapus spasi di awal dan akhir string\n",
        "pertanyaan_bersih = pertanyaan_bersih.strip()\n",
        "jawaban_bersih = jawaban_bersih.strip()\n",
        "\n",
        "print(pertanyaan_bersih)\n",
        "print(jawaban_bersih)"
      ]
    },
    {
      "cell_type": "code",
      "execution_count": 48,
      "id": "5N0s7BObcv5-",
      "metadata": {
        "colab": {
          "base_uri": "https://localhost:8080/",
          "height": 423
        },
        "id": "5N0s7BObcv5-",
        "outputId": "58a44006-1146-4ef6-aa06-1e4901f00355"
      },
      "outputs": [
        {
          "name": "stdout",
          "output_type": "stream",
          "text": [
            "Tokens Pertanyaan: ['kenapa', 'ketika', 'mencoba', 'membayar', 'online', 'melalui', 'atminternet', 'bankingteller', 'pembayaran', 'tidak', 'dapat', 'dilakukan']\n",
            "Tokens Jawaban: ['perhatikan', 'jadwal', 'pembayaran', 'karena', 'pembayaran', 'dibuka', 'dan', 'ditutup', 'sesuai', 'kalender', 'akademik']\n"
          ]
        }
      ],
      "source": [
        "tokens_pertanyaan = pertanyaan_bersih.split()\n",
        "tokens_jawaban = jawaban_bersih.split()\n",
        "\n",
        "print(\"Tokens Pertanyaan:\", tokens_pertanyaan)\n",
        "print(\"Tokens Jawaban:\", tokens_jawaban)"
      ]
    },
    {
      "cell_type": "markdown",
      "id": "39f22342",
      "metadata": {},
      "source": [
        "# **TF-IDF**"
      ]
    },
    {
      "cell_type": "code",
      "execution_count": 56,
      "id": "5DFoJwcVdP52",
      "metadata": {
        "colab": {
          "base_uri": "https://localhost:8080/",
          "height": 206
        },
        "id": "5DFoJwcVdP52",
        "outputId": "b0dd88e0-8ace-4450-80d0-1036eef85df8"
      },
      "outputs": [
        {
          "name": "stdout",
          "output_type": "stream",
          "text": [
            "Vektor TF-IDF untuk Pertanyaan:\n",
            "[[0.         0.29480389 0.29480389 0.         0.29480389 0.\n",
            "  0.29480389 0.         0.         0.         0.         0.29480389\n",
            "  0.29480389 0.29480389 0.29480389 0.29480389 0.29480389 0.2097554\n",
            "  0.         0.         0.29480389]]\n",
            "\n",
            "Vektor TF-IDF untuk Jawaban:\n",
            "[[0.30116963 0.         0.         0.30116963 0.         0.30116963\n",
            "  0.         0.30116963 0.30116963 0.30116963 0.30116963 0.\n",
            "  0.         0.         0.         0.         0.         0.42856935\n",
            "  0.30116963 0.30116963 0.        ]]\n"
          ]
        }
      ],
      "source": [
        "from sklearn.feature_extraction.text import TfidfVectorizer\n",
        "\n",
        "# Gabungkan token pertanyaan dan jawaban menjadi satu dokumen\n",
        "dokumen_pertanyaan = ' '.join(tokens_pertanyaan)\n",
        "dokumen_jawaban = ' '.join(tokens_jawaban)\n",
        "\n",
        "# Inisialisasi objek TfidfVectorizer\n",
        "tfidf_vectorizer = TfidfVectorizer()\n",
        "\n",
        "# Membangun matriks TF-IDF dari dokumen gabungan\n",
        "dokumen_gabungan = [dokumen_pertanyaan, dokumen_jawaban]\n",
        "tfidf_matrix = tfidf_vectorizer.fit_transform(dokumen_gabungan)\n",
        "\n",
        "# Mendapatkan vektor TF-IDF untuk pertanyaan dan jawaban\n",
        "vektor_tfidf_pertanyaan = tfidf_matrix[0].toarray()\n",
        "vektor_tfidf_jawaban = tfidf_matrix[1].toarray()\n",
        "\n",
        "# Menampilkan vektor TF-IDF untuk pertanyaan dan jawaban\n",
        "print(\"Vektor TF-IDF untuk Pertanyaan:\")\n",
        "print(vektor_tfidf_pertanyaan)\n",
        "print(\"\\nVektor TF-IDF untuk Jawaban:\")\n",
        "print(vektor_tfidf_jawaban)\n"
      ]
    },
    {
      "cell_type": "code",
      "execution_count": 59,
      "id": "HksM_GGVdenI",
      "metadata": {
        "colab": {
          "base_uri": "https://localhost:8080/",
          "height": 206
        },
        "id": "HksM_GGVdenI",
        "outputId": "22c5c2b3-5344-4ea7-c5c6-f5665e69062b"
      },
      "outputs": [
        {
          "name": "stdout",
          "output_type": "stream",
          "text": [
            "Cosine Similarity antara Pertanyaan dan Jawaban: 0.08989473279508849\n"
          ]
        }
      ],
      "source": [
        "from sklearn.metrics.pairwise import cosine_similarity\n",
        "\n",
        "# Menghitung cosine similarity antara vektor TF-IDF pertanyaan dan jawaban\n",
        "cosine_sim = cosine_similarity(vektor_tfidf_pertanyaan, vektor_tfidf_jawaban)\n",
        "\n",
        "# Menampilkan hasil cosine similarity\n",
        "print(\"Cosine Similarity antara Pertanyaan dan Jawaban:\", cosine_sim[0][0])\n"
      ]
    },
    {
      "cell_type": "markdown",
      "id": "8p_YOwTKdr53",
      "metadata": {
        "id": "8p_YOwTKdr53"
      },
      "source": [
        "Data yang telah kita miliki dalam format JSON yang dapat digunakan melalui pandas dengan cara konversi. Data JSON yang saya miliki didapat dengan cara manual dengan mengambil beberapa referensi website tentang program Kampus Merdeka."
      ]
    },
    {
      "cell_type": "code",
      "execution_count": 2,
      "id": "3f9b805a",
      "metadata": {},
      "outputs": [
        {
          "data": {
            "image/png": "[encoded data removed]",
            "text/plain": [
              "<Figure size 640x480 with 1 Axes>"
            ]
          },
          "metadata": {},
          "output_type": "display_data"
        }
      ],
      "source": [
        "import numpy as np\n",
        "import matplotlib.pyplot as plt\n",
        "\n",
        "data = np.load('reward_punishment.npy')\n",
        "\n",
        "plt.plot(data)\n",
        "plt.show()"
      ]
    }
  ],
  "metadata": {
    "colab": {
      "include_colab_link": true,
      "name": "DL_Chatbot.ipynb",
      "provenance": [],
      "toc_visible": true
    },
    "gpuClass": "standard",
    "kernelspec": {
      "display_name": "Python 3.10.2 ('.venv': venv)",
      "language": "python",
      "name": "python3"
    },
    "language_info": {
      "codemirror_mode": {
        "name": "ipython",
        "version": 3
      },
      "file_extension": ".py",
      "mimetype": "text/x-python",
      "name": "python",
      "nbconvert_exporter": "python",
      "pygments_lexer": "ipython3",
      "version": "3.10.2"
    },
    "latex_envs": {
      "LaTeX_envs_menu_present": true,
      "autoclose": false,
      "autocomplete": true,
      "bibliofile": "biblio.bib",
      "cite_by": "apalike",
      "current_citInitial": 1,
      "eqLabelWithNumbers": true,
      "eqNumInitial": 1,
      "hotkeys": {
        "equation": "Ctrl-E",
        "itemize": "Ctrl-I"
      },
      "labels_anchors": false,
      "latex_user_defs": false,
      "report_style_numbering": false,
      "user_envs_cfg": false
    },
    "varInspector": {
      "cols": {
        "lenName": 16,
        "lenType": 16,
        "lenVar": 40
      },
      "kernels_config": {
        "python": {
          "delete_cmd_postfix": "",
          "delete_cmd_prefix": "del ",
          "library": "var_list.py",
          "varRefreshCmd": "print(var_dic_list())"
        },
        "r": {
          "delete_cmd_postfix": ") ",
          "delete_cmd_prefix": "rm(",
          "library": "var_list.r",
          "varRefreshCmd": "cat(var_dic_list()) "
        }
      },
      "types_to_exclude": [
        "module",
        "function",
        "builtin_function_or_method",
        "instance",
        "_Feature"
      ],
      "window_display": false
    },
    "vscode": {
      "interpreter": {
        "hash": "1c42a3b7351d4e126914046d0cf73671fa51356b706c0d32a1c4a2058e3a2e41"
      }
    }
  },
  "nbformat": 4,
  "nbformat_minor": 5
}
